{
 "cells": [
  {
   "cell_type": "markdown",
   "id": "faa17919",
   "metadata": {},
   "source": [
    "# Utility Functions for PR104"
   ]
  },
  {
   "cell_type": "markdown",
   "id": "141fd883",
   "metadata": {},
   "source": [
    "1. [arff_tocsv()](#arff_tocsv)\n",
    "1. [varselect_tocsv()](#varselect_tocsv)"
   ]
  },
  {
   "cell_type": "code",
   "execution_count": 1,
   "id": "b6fa7955",
   "metadata": {},
   "outputs": [],
   "source": [
    "%run setup.ipynb"
   ]
  },
  {
   "cell_type": "markdown",
   "id": "20a2e96b",
   "metadata": {},
   "source": [
    "<br>"
   ]
  },
  {
   "cell_type": "markdown",
   "id": "61b0b16f",
   "metadata": {},
   "source": [
    "### arff_tocsv(*name*) <a class='anchor' id='arff_tocsv'></a>\n",
    "#### Loads *.arff* data and save it in a CSV file\n",
    "This function is used to load data from an ARFF file and save it as a CSV file. The function takes one argument:\n",
    "\n",
    "- **name**: a string that specifies the name of the ARFF file to be loaded. This string should be a valid file name and should have .arff appended to it when the file is read."
   ]
  },
  {
   "cell_type": "code",
   "execution_count": 9,
   "id": "7b283b7e",
   "metadata": {},
   "outputs": [],
   "source": [
    "from scipy.io.arff import loadarff \n",
    "\n",
    "def arff_tocsv(name):\n",
    "    # Constructs the full file path for the ARFF file\n",
    "    path = os.path.join(DATA_PATH, name + \".arff\")\n",
    "    # Reads the data from the file into a NumPy structured array\n",
    "    raw_data = loadarff(path)\n",
    "    # Array is then converted to a Pandas dataframe \n",
    "    df_data = pd.DataFrame(raw_data[0])\n",
    "    # Converts the last column of the dataframe to a boolean data type\n",
    "    df_data[\"defects\"] = df_data[\"defects\"].astype(\"boolean\")\n",
    "    print(name + \".arff\",\"successfully loaded\")\n",
    "    # Saves the dataframe as a CSV file using the same name as the ARFF file\n",
    "    df_data.to_csv(f'{DATA_PATH}/{name}.csv', mode=\"w\")\n",
    "    print(\"Saved in\", f'{DATA_PATH}/{name}.csv')\n",
    "    return df_data"
   ]
  },
  {
   "cell_type": "markdown",
   "id": "9c31cb12",
   "metadata": {},
   "source": [
    "<br>"
   ]
  },
  {
   "cell_type": "markdown",
   "id": "fc9bcfa3",
   "metadata": {},
   "source": [
    "### varselect_tocsv(*df, varnames, outname*) <a class='anchor' id='varselect_tocsv'></a>\n",
    "#### Selects features of interest and saves them in a CSV file\n",
    "\n",
    "This function is used to select a subset of columns (i.e., variables) from a Pandas dataframe and save the result as a CSV file. The function takes three arguments:\n",
    "\n",
    "- **df**: a Pandas dataframe that contains the data.\n",
    "- **varnames**: a list of strings, each of which is the name of a column in *df* that should be selected.\n",
    "- **outname**: a string that specifies the name to be used for the CSV file. This string should be a valid file name and will have *.csv* appended to it when the file is created."
   ]
  },
  {
   "cell_type": "code",
   "execution_count": 8,
   "id": "b46647eb",
   "metadata": {},
   "outputs": [],
   "source": [
    "# In the paper, only McCabe metrics are selected to build the quality predictors.\n",
    "\n",
    "def varselect_tocsv(df, varnames, outname):\n",
    "    varnames_set = set(varnames)\n",
    "    columns_set = set(df.columns)\n",
    "    # Checks whether the list of variable names is a subset of the column names\n",
    "    if (isinstance(df, pd.core.frame.DataFrame) &\n",
    "        (varnames_set.issubset(columns_set)) &\n",
    "        (type(outname) == str)):\n",
    "            # Selects the specified columns from the dataframe\n",
    "            out_df = df[varnames]\n",
    "            # Saves the result to a CSV file using the specified name\n",
    "            out_df.to_csv(f'{RESULTS_PATH}/{outname}.csv', mode=\"w\")\n",
    "            print('The variable selection was successfully saved in',f'{RESULTS_PATH}/{outname}.csv' )\n",
    "            return out_df\n",
    "    else:\n",
    "        # If any of the input arguments are invalid, the function prints an error message and returns None.\n",
    "        print('Provide proper arguments: a df, a list of features names and a subfix string')"
   ]
  }
 ],
 "metadata": {
  "kernelspec": {
   "display_name": "Python 3 (ipykernel)",
   "language": "python",
   "name": "python3"
  },
  "language_info": {
   "codemirror_mode": {
    "name": "ipython",
    "version": 3
   },
   "file_extension": ".py",
   "mimetype": "text/x-python",
   "name": "python",
   "nbconvert_exporter": "python",
   "pygments_lexer": "ipython3",
   "version": "3.9.15"
  }
 },
 "nbformat": 4,
 "nbformat_minor": 5
}
