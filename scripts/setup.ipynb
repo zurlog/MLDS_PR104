{
 "cells": [
  {
   "cell_type": "markdown",
   "id": "e78e4e71",
   "metadata": {},
   "source": [
    "## Setup\n",
    "\n",
    "First, let's import a few common modules, ensure MatplotLib plots figures inline, set locations and prepare a function to save the figures. \n",
    "\n",
    "`%matplotLib inline` allows you to show resulting plots below the code cell that produced it and store plots in the notebook document. "
   ]
  },
  {
   "cell_type": "code",
   "execution_count": 5,
   "id": "680e41ae",
   "metadata": {},
   "outputs": [],
   "source": [
    "# Python ≥3.5 is required\n",
    "import sys\n",
    "assert sys.version_info >= (3, 5)\n",
    "\n",
    "# Scikit-Learn ≥0.20 is required\n",
    "import sklearn\n",
    "assert sklearn.__version__ >= \"0.20\"\n",
    "\n",
    "# Common imports\n",
    "import numpy as np\n",
    "import os\n",
    "import pandas as pd\n",
    "from IPython.display import HTML\n",
    "\n",
    "# to make this notebook's output stable across runs\n",
    "#np.random.seed(42)\n",
    "\n",
    "# To plot pretty figures\n",
    "%matplotlib inline \n",
    "import matplotlib as mpl \n",
    "\n",
    "import matplotlib.pyplot as plt\n",
    "import matplotlib.image as mpimg\n",
    "\n",
    "\n",
    "\n",
    "from plotly.offline import iplot\n",
    "import plotly.express as px\n",
    "\n",
    "import seaborn as sns\n",
    "mpl.rc('axes', labelsize=14)\n",
    "mpl.rc('xtick', labelsize=12)\n",
    "mpl.rc('ytick', labelsize=12)\n",
    "\n",
    "# Where to save the data, results and images\n",
    "LESSON_ROOT_DIR = \"../\"\n",
    "\n",
    "CONF_PATH = os.path.join(LESSON_ROOT_DIR, \"conf\")\n",
    "os.makedirs(CONF_PATH, exist_ok=True)\n",
    "\n",
    "DATA_PATH = os.path.join(LESSON_ROOT_DIR, \"data\")\n",
    "os.makedirs(DATA_PATH, exist_ok=True)\n",
    "\n",
    "RESULTS_PATH = os.path.join(LESSON_ROOT_DIR, \"results\")\n",
    "os.makedirs(RESULTS_PATH, exist_ok=True)\n",
    "\n",
    "IMAGES_PATH = os.path.join(LESSON_ROOT_DIR, \"images\")\n",
    "os.makedirs(IMAGES_PATH, exist_ok=True)\n",
    "\n",
    "from numpy.random import rand\n",
    "from numpy.random import randn\n",
    "\n",
    "def save_fig(fig_id, tight_layout=True, fig_extension=\"png\", resolution=300):\n",
    "    path = os.path.join(IMAGES_PATH, fig_id + \".\" + fig_extension)\n",
    "    print(\"Saving figure\", fig_id)\n",
    "    \n",
    "    if tight_layout:\n",
    "        plt.tight_layout()\n",
    "        \n",
    "    plt.savefig(path, format=fig_extension, dpi=resolution)"
   ]
  },
  {
   "cell_type": "code",
   "execution_count": null,
   "id": "045d277d",
   "metadata": {},
   "outputs": [],
   "source": []
  }
 ],
 "metadata": {
  "kernelspec": {
   "display_name": "Python 3 (ipykernel)",
   "language": "python",
   "name": "python3"
  },
  "language_info": {
   "codemirror_mode": {
    "name": "ipython",
    "version": 3
   },
   "file_extension": ".py",
   "mimetype": "text/x-python",
   "name": "python",
   "nbconvert_exporter": "python",
   "pygments_lexer": "ipython3",
   "version": "3.9.15"
  }
 },
 "nbformat": 4,
 "nbformat_minor": 5
}
